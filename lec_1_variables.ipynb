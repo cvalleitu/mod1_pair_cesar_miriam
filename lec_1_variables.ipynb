{
 "cells": [
  {
   "cell_type": "markdown",
   "id": "6fd4ddda",
   "metadata": {},
   "source": [
    "# Variables:\n",
    "\n",
    "## ¿Qué hemos aprendido?\n",
    "\n",
    "- Tipos de variables que tenemos en Python:\n",
    "\n",
    "    - String: cadenas de texto. Tienen que ir entre comillas (\", '). Si emepzamos la sentencia con comilla simple, terminamos con comilla simple y lo mismo para la comilla doble. \n",
    "\n",
    "    - Booleanos: True o False. La primera letra siempre tiene que ir en mayúsculas. Nota:\n",
    "\n",
    "        - True Python lo entiende como 1\n",
    "        - False Python lo entiende como 0 \n",
    "\n",
    "    - Float: números decimales, los decimales en Python se ponen con `.`. \n",
    "\n",
    "    - Integer: números enteros. \n",
    "\n",
    "- Operador de asignación:\n",
    "\n",
    "    - = \n",
    "\n",
    "- Operadores de comparación: \n",
    "\n",
    "    - `>`: mayor que\n",
    "\n",
    "    - `<`: menor que\n",
    "\n",
    "    - `==`: igual que\n",
    "\n",
    "    - `!=`: distinto de\n",
    "\n",
    "    - `is`: comprueba si dos objetos son idénticos.\n",
    "\n",
    "    - `is not`: comprueba si dos objetos no son idénticos.\n",
    "\n",
    "    - `>=`: mayor o igual que\n",
    "\n",
    "    - `<=`: menos o igual que\n",
    "\n",
    "    - **NOTA**: `and` y el `or` nos sirven para poder combinar distintas comparaciones. Ciudado cuando los usaremos, los paréntesis son importantes. \n",
    "\n",
    "\n",
    "- Operadores algebraicos: \n",
    "\n",
    "    - `+` : sumar\n",
    "\n",
    "    - `-`: restar\n",
    "\n",
    "    - `*`: multiplicar\n",
    "\n",
    "    - `**`: elevar\n",
    "\n",
    "    - `//` : division entera\n",
    "\n",
    "    - `%`: resto de la división\n",
    "\n",
    "    - `/`: division simple\n",
    "\n",
    "\n",
    "- Métodos de strings: \n",
    "\n",
    "    - upper: todo en mayuscula\n",
    "\n",
    "    - lower: todo en minuscula\n",
    "\n",
    "    - capitalize: la primera letra de la cadena de texto. \n",
    "\n",
    "    - title: la primera letra de cada palabra de la cadena de texto. \n",
    "\n",
    "    - swapcase: cambia de mayuscula a minuscula y viceversa\n",
    "\n",
    "    - strip: quita los espacio al incio y al final de la cadena de texto\n",
    "\n",
    "    - split: divide nuestra cadena de texto, por defecto lo hace por espacio. Pero podemos especificar porque queremos dividir. Nos devuelve una lista. CUIDADO, EL ELEMENTO POR EL QUE DIVIDIMOS DESAPARECE EN LA LISTA RESULTANTE. NOTA:\n",
    "        - \\n: para dividir por salto de linea\n",
    "        - \\t: para dividir por tabulador\n",
    "\n",
    "    - replace: reemplaza un elemento de un string, por lo que especifiquemos\n",
    "        ```python\n",
    "        string.replace(\"lo que queremos reemplazar\", \"nuevo_string\")\n",
    "        ```\n",
    "\n",
    "    - join: lo usaremos con listas. TODOS LOS ELEMENTOS DE LA LISTA TIENEN QUE SER DE TIPO STRING"
   ]
  },
  {
   "cell_type": "code",
   "execution_count": 1,
   "id": "dc697d6d",
   "metadata": {},
   "outputs": [],
   "source": [
    "edad = \"45\""
   ]
  },
  {
   "cell_type": "code",
   "execution_count": 2,
   "id": "c148b852",
   "metadata": {},
   "outputs": [
    {
     "name": "stdout",
     "output_type": "stream",
     "text": [
      "45\n"
     ]
    }
   ],
   "source": [
    "print(edad)"
   ]
  },
  {
   "cell_type": "code",
   "execution_count": 3,
   "id": "bd362041",
   "metadata": {},
   "outputs": [
    {
     "data": {
      "text/plain": [
       "'45'"
      ]
     },
     "execution_count": 3,
     "metadata": {},
     "output_type": "execute_result"
    }
   ],
   "source": [
    "edad"
   ]
  },
  {
   "cell_type": "code",
   "execution_count": 5,
   "id": "5965af7e",
   "metadata": {},
   "outputs": [
    {
     "name": "stdout",
     "output_type": "stream",
     "text": [
      "<class 'str'>\n"
     ]
    }
   ],
   "source": [
    "print(type(edad))"
   ]
  },
  {
   "cell_type": "code",
   "execution_count": 8,
   "id": "ead80af3",
   "metadata": {},
   "outputs": [],
   "source": [
    "edad = 32"
   ]
  },
  {
   "cell_type": "code",
   "execution_count": 9,
   "id": "9de48aa1",
   "metadata": {},
   "outputs": [
    {
     "name": "stdout",
     "output_type": "stream",
     "text": [
      "<class 'int'>\n"
     ]
    }
   ],
   "source": [
    "print(type(edad))"
   ]
  },
  {
   "cell_type": "code",
   "execution_count": 10,
   "id": "839b3e4f",
   "metadata": {},
   "outputs": [
    {
     "name": "stdout",
     "output_type": "stream",
     "text": [
      "32\n"
     ]
    }
   ],
   "source": [
    "print(edad)"
   ]
  },
  {
   "cell_type": "code",
   "execution_count": 11,
   "id": "d4322efa",
   "metadata": {},
   "outputs": [
    {
     "ename": "NameError",
     "evalue": "name 'nombre' is not defined",
     "output_type": "error",
     "traceback": [
      "\u001b[1;31m---------------------------------------------------------------------------\u001b[0m",
      "\u001b[1;31mNameError\u001b[0m                                 Traceback (most recent call last)",
      "Cell \u001b[1;32mIn[11], line 1\u001b[0m\n\u001b[1;32m----> 1\u001b[0m \u001b[38;5;28mprint\u001b[39m(nombre)\n",
      "\u001b[1;31mNameError\u001b[0m: name 'nombre' is not defined"
     ]
    }
   ],
   "source": [
    "print(nombre)"
   ]
  },
  {
   "cell_type": "code",
   "execution_count": 12,
   "id": "b78d633d",
   "metadata": {},
   "outputs": [],
   "source": [
    "altura = 1,78"
   ]
  },
  {
   "cell_type": "code",
   "execution_count": 13,
   "id": "9839a6a2",
   "metadata": {},
   "outputs": [
    {
     "name": "stdout",
     "output_type": "stream",
     "text": [
      "<class 'tuple'>\n"
     ]
    }
   ],
   "source": [
    "print(type(altura))"
   ]
  },
  {
   "cell_type": "code",
   "execution_count": 14,
   "id": "bd1465f8",
   "metadata": {},
   "outputs": [
    {
     "name": "stdout",
     "output_type": "stream",
     "text": [
      "(1, 78)\n"
     ]
    }
   ],
   "source": [
    "print(altura)"
   ]
  },
  {
   "cell_type": "code",
   "execution_count": 15,
   "id": "913c4d0c",
   "metadata": {},
   "outputs": [],
   "source": [
    "altura = 1.78"
   ]
  },
  {
   "cell_type": "code",
   "execution_count": 16,
   "id": "a5606b86",
   "metadata": {},
   "outputs": [
    {
     "name": "stdout",
     "output_type": "stream",
     "text": [
      "<class 'float'>\n"
     ]
    }
   ],
   "source": [
    "print(type(altura))"
   ]
  },
  {
   "cell_type": "code",
   "execution_count": 18,
   "id": "1a7ff7b7",
   "metadata": {},
   "outputs": [
    {
     "name": "stdout",
     "output_type": "stream",
     "text": [
      "hola chicas buenos días\n"
     ]
    }
   ],
   "source": [
    "print(\"hola chicas buenos días\")"
   ]
  },
  {
   "cell_type": "code",
   "execution_count": 19,
   "id": "9706c73c",
   "metadata": {},
   "outputs": [
    {
     "name": "stdout",
     "output_type": "stream",
     "text": [
      "1.78\n"
     ]
    }
   ],
   "source": [
    "print(altura)"
   ]
  },
  {
   "cell_type": "code",
   "execution_count": 20,
   "id": "ccea1341",
   "metadata": {},
   "outputs": [
    {
     "data": {
      "text/plain": [
       "5.34"
      ]
     },
     "execution_count": 20,
     "metadata": {},
     "output_type": "execute_result"
    }
   ],
   "source": [
    "altura * 3"
   ]
  },
  {
   "cell_type": "code",
   "execution_count": 21,
   "id": "d4826959",
   "metadata": {},
   "outputs": [
    {
     "data": {
      "text/plain": [
       "5.78"
      ]
     },
     "execution_count": 21,
     "metadata": {},
     "output_type": "execute_result"
    }
   ],
   "source": [
    "altura + 4"
   ]
  },
  {
   "cell_type": "code",
   "execution_count": 22,
   "id": "9ad29aa7",
   "metadata": {},
   "outputs": [],
   "source": [
    "nombre = \"Cesar\""
   ]
  },
  {
   "cell_type": "code",
   "execution_count": 23,
   "id": "17868826",
   "metadata": {},
   "outputs": [
    {
     "name": "stdout",
     "output_type": "stream",
     "text": [
      "<class 'str'>\n"
     ]
    }
   ],
   "source": [
    "print(type(nombre))"
   ]
  },
  {
   "cell_type": "code",
   "execution_count": 24,
   "id": "970b23a5",
   "metadata": {},
   "outputs": [
    {
     "name": "stdout",
     "output_type": "stream",
     "text": [
      "Cesar\n"
     ]
    }
   ],
   "source": [
    "print(nombre)"
   ]
  },
  {
   "cell_type": "code",
   "execution_count": 25,
   "id": "7a895376",
   "metadata": {},
   "outputs": [
    {
     "ename": "TypeError",
     "evalue": "can only concatenate str (not \"int\") to str",
     "output_type": "error",
     "traceback": [
      "\u001b[1;31m---------------------------------------------------------------------------\u001b[0m",
      "\u001b[1;31mTypeError\u001b[0m                                 Traceback (most recent call last)",
      "Cell \u001b[1;32mIn[25], line 1\u001b[0m\n\u001b[1;32m----> 1\u001b[0m nombre \u001b[38;5;241m+\u001b[39m \u001b[38;5;241m3\u001b[39m\n",
      "\u001b[1;31mTypeError\u001b[0m: can only concatenate str (not \"int\") to str"
     ]
    }
   ],
   "source": [
    "nombre + 3"
   ]
  },
  {
   "cell_type": "code",
   "execution_count": 26,
   "id": "f6ee392e",
   "metadata": {},
   "outputs": [
    {
     "data": {
      "text/plain": [
       "'CesarCesarCesar'"
      ]
     },
     "execution_count": 26,
     "metadata": {},
     "output_type": "execute_result"
    }
   ],
   "source": [
    "nombre * 3"
   ]
  },
  {
   "cell_type": "code",
   "execution_count": 28,
   "id": "f095bff9",
   "metadata": {},
   "outputs": [
    {
     "data": {
      "text/plain": [
       "'Cesar Valle'"
      ]
     },
     "execution_count": 28,
     "metadata": {},
     "output_type": "execute_result"
    }
   ],
   "source": [
    "nombre + \" Valle\""
   ]
  },
  {
   "cell_type": "code",
   "execution_count": 32,
   "id": "0ffa2e2e",
   "metadata": {},
   "outputs": [
    {
     "name": "stdout",
     "output_type": "stream",
     "text": [
      "Cesar\n"
     ]
    }
   ],
   "source": [
    "print(nombre)"
   ]
  },
  {
   "cell_type": "code",
   "execution_count": 31,
   "id": "d15393ef",
   "metadata": {},
   "outputs": [
    {
     "ename": "AttributeError",
     "evalue": "'int' object has no attribute 'lower'",
     "output_type": "error",
     "traceback": [
      "\u001b[1;31m---------------------------------------------------------------------------\u001b[0m",
      "\u001b[1;31mAttributeError\u001b[0m                            Traceback (most recent call last)",
      "Cell \u001b[1;32mIn[31], line 1\u001b[0m\n\u001b[1;32m----> 1\u001b[0m edad\u001b[38;5;241m.\u001b[39mlower()\n",
      "\u001b[1;31mAttributeError\u001b[0m: 'int' object has no attribute 'lower'"
     ]
    }
   ],
   "source": [
    "edad.lower()"
   ]
  },
  {
   "cell_type": "code",
   "execution_count": 33,
   "id": "bf84aa9d",
   "metadata": {},
   "outputs": [],
   "source": [
    "apellido = \"Valle\""
   ]
  },
  {
   "cell_type": "code",
   "execution_count": 35,
   "id": "f282b14d",
   "metadata": {},
   "outputs": [
    {
     "data": {
      "text/plain": [
       "'Cesar Valle'"
      ]
     },
     "execution_count": 35,
     "metadata": {},
     "output_type": "execute_result"
    }
   ],
   "source": [
    "nombre + \" \" + apellido"
   ]
  },
  {
   "cell_type": "code",
   "execution_count": 39,
   "id": "b9b5004a",
   "metadata": {},
   "outputs": [
    {
     "ename": "SyntaxError",
     "evalue": "invalid syntax (2659981133.py, line 1)",
     "output_type": "error",
     "traceback": [
      "\u001b[1;36m  Cell \u001b[1;32mIn[39], line 1\u001b[1;36m\u001b[0m\n\u001b[1;33m    nombre completo = nombre + \" \" + apellido\u001b[0m\n\u001b[1;37m           ^\u001b[0m\n\u001b[1;31mSyntaxError\u001b[0m\u001b[1;31m:\u001b[0m invalid syntax\n"
     ]
    }
   ],
   "source": [
    "nombre completo = nombre + \" \" + apellido"
   ]
  },
  {
   "cell_type": "code",
   "execution_count": 37,
   "id": "c88beb4e",
   "metadata": {},
   "outputs": [],
   "source": [
    "nombre_completo = nombre + \" \" + apellido"
   ]
  },
  {
   "cell_type": "code",
   "execution_count": 38,
   "id": "69dc0415",
   "metadata": {},
   "outputs": [
    {
     "name": "stdout",
     "output_type": "stream",
     "text": [
      "Cesar Valle\n"
     ]
    }
   ],
   "source": [
    "print(nombre_completo)"
   ]
  },
  {
   "cell_type": "code",
   "execution_count": 40,
   "id": "120f94c1",
   "metadata": {},
   "outputs": [
    {
     "ename": "SyntaxError",
     "evalue": "cannot assign to literal here. Maybe you meant '==' instead of '='? (3802935557.py, line 1)",
     "output_type": "error",
     "traceback": [
      "\u001b[1;36m  Cell \u001b[1;32mIn[40], line 1\u001b[1;36m\u001b[0m\n\u001b[1;33m    3 = 3\u001b[0m\n\u001b[1;37m    ^\u001b[0m\n\u001b[1;31mSyntaxError\u001b[0m\u001b[1;31m:\u001b[0m cannot assign to literal here. Maybe you meant '==' instead of '='?\n"
     ]
    }
   ],
   "source": [
    "3 = 3"
   ]
  },
  {
   "cell_type": "code",
   "execution_count": 41,
   "id": "b48b303a",
   "metadata": {},
   "outputs": [],
   "source": [
    "a3 = 3"
   ]
  },
  {
   "cell_type": "code",
   "execution_count": 42,
   "id": "f00e58e5",
   "metadata": {},
   "outputs": [
    {
     "name": "stdout",
     "output_type": "stream",
     "text": [
      "3\n"
     ]
    }
   ],
   "source": [
    "print(a3)"
   ]
  },
  {
   "cell_type": "code",
   "execution_count": 43,
   "id": "1d1ee181",
   "metadata": {},
   "outputs": [
    {
     "data": {
      "text/plain": [
       "True"
      ]
     },
     "execution_count": 43,
     "metadata": {},
     "output_type": "execute_result"
    }
   ],
   "source": [
    "3 == 3"
   ]
  },
  {
   "cell_type": "code",
   "execution_count": 44,
   "id": "7d3f2c42",
   "metadata": {},
   "outputs": [
    {
     "data": {
      "text/plain": [
       "0"
      ]
     },
     "execution_count": 44,
     "metadata": {},
     "output_type": "execute_result"
    }
   ],
   "source": [
    "4 % 2"
   ]
  },
  {
   "cell_type": "code",
   "execution_count": 46,
   "id": "a0748e3f",
   "metadata": {},
   "outputs": [
    {
     "data": {
      "text/plain": [
       "True"
      ]
     },
     "execution_count": 46,
     "metadata": {},
     "output_type": "execute_result"
    }
   ],
   "source": [
    "4 % 2 == 0 # 4 es número par"
   ]
  },
  {
   "cell_type": "code",
   "execution_count": 47,
   "id": "a55298e2",
   "metadata": {},
   "outputs": [
    {
     "name": "stdout",
     "output_type": "stream",
     "text": [
      "Cesar Valle\n"
     ]
    }
   ],
   "source": [
    "print(nombre_completo)"
   ]
  },
  {
   "cell_type": "code",
   "execution_count": 48,
   "id": "dd32c43b",
   "metadata": {},
   "outputs": [
    {
     "data": {
      "text/plain": [
       "'CESAR VALLE'"
      ]
     },
     "execution_count": 48,
     "metadata": {},
     "output_type": "execute_result"
    }
   ],
   "source": [
    "nombre_completo.upper()"
   ]
  },
  {
   "cell_type": "code",
   "execution_count": 49,
   "id": "70395968",
   "metadata": {},
   "outputs": [
    {
     "name": "stdout",
     "output_type": "stream",
     "text": [
      "Cesar Valle\n"
     ]
    }
   ],
   "source": [
    "print(nombre_completo)"
   ]
  },
  {
   "cell_type": "code",
   "execution_count": 50,
   "id": "38e65f8c",
   "metadata": {},
   "outputs": [],
   "source": [
    "nombre_completo_mayus = nombre_completo.upper()"
   ]
  },
  {
   "cell_type": "code",
   "execution_count": 51,
   "id": "02e05366",
   "metadata": {},
   "outputs": [
    {
     "name": "stdout",
     "output_type": "stream",
     "text": [
      "Cesar Valle\n"
     ]
    }
   ],
   "source": [
    "print(nombre_completo)"
   ]
  },
  {
   "cell_type": "code",
   "execution_count": 52,
   "id": "0c48ce28",
   "metadata": {},
   "outputs": [
    {
     "name": "stdout",
     "output_type": "stream",
     "text": [
      "CESAR VALLE\n"
     ]
    }
   ],
   "source": [
    "print(nombre_completo_mayus)"
   ]
  },
  {
   "cell_type": "code",
   "execution_count": 53,
   "id": "75ccbca4",
   "metadata": {},
   "outputs": [
    {
     "data": {
      "text/plain": [
       "'cESAR vALLE'"
      ]
     },
     "execution_count": 53,
     "metadata": {},
     "output_type": "execute_result"
    }
   ],
   "source": [
    "nombre_completo.swapcase()"
   ]
  },
  {
   "cell_type": "code",
   "execution_count": 54,
   "id": "e8d8890d",
   "metadata": {},
   "outputs": [
    {
     "data": {
      "text/plain": [
       "'Cesar valle'"
      ]
     },
     "execution_count": 54,
     "metadata": {},
     "output_type": "execute_result"
    }
   ],
   "source": [
    "nombre_completo.capitalize()"
   ]
  },
  {
   "cell_type": "code",
   "execution_count": 56,
   "id": "e3e1cf9a",
   "metadata": {},
   "outputs": [
    {
     "data": {
      "text/plain": [
       "'Cesar Valle'"
      ]
     },
     "execution_count": 56,
     "metadata": {},
     "output_type": "execute_result"
    }
   ],
   "source": [
    "nombre_completo.title()"
   ]
  },
  {
   "cell_type": "code",
   "execution_count": 6,
   "id": "a0e2e1d8",
   "metadata": {},
   "outputs": [],
   "source": [
    "saludo = \"hola buenos días\""
   ]
  },
  {
   "cell_type": "code",
   "execution_count": 7,
   "id": "af68a056",
   "metadata": {},
   "outputs": [
    {
     "data": {
      "text/plain": [
       "['hola', 'buenos', 'días']"
      ]
     },
     "execution_count": 7,
     "metadata": {},
     "output_type": "execute_result"
    }
   ],
   "source": [
    "saludo.split()"
   ]
  },
  {
   "cell_type": "code",
   "execution_count": 3,
   "id": "fcc75698",
   "metadata": {},
   "outputs": [
    {
     "data": {
      "text/plain": [
       "['hol', ' buenos dí', 's']"
      ]
     },
     "execution_count": 3,
     "metadata": {},
     "output_type": "execute_result"
    }
   ],
   "source": [
    "saludo.split(\"a\")"
   ]
  },
  {
   "cell_type": "code",
   "execution_count": 8,
   "id": "dd729d30",
   "metadata": {},
   "outputs": [
    {
     "name": "stdout",
     "output_type": "stream",
     "text": [
      "hola buenos días\n"
     ]
    }
   ],
   "source": [
    "print(saludo)"
   ]
  },
  {
   "cell_type": "code",
   "execution_count": 9,
   "id": "de232520",
   "metadata": {},
   "outputs": [
    {
     "ename": "NameError",
     "evalue": "name 'saludu' is not defined",
     "output_type": "error",
     "traceback": [
      "\u001b[1;31m---------------------------------------------------------------------------\u001b[0m",
      "\u001b[1;31mNameError\u001b[0m                                 Traceback (most recent call last)",
      "Cell \u001b[1;32mIn[9], line 1\u001b[0m\n\u001b[1;32m----> 1\u001b[0m \u001b[38;5;28mprint\u001b[39m(saludu)\n",
      "\u001b[1;31mNameError\u001b[0m: name 'saludu' is not defined"
     ]
    }
   ],
   "source": [
    "print(saludu)"
   ]
  },
  {
   "cell_type": "code",
   "execution_count": 10,
   "id": "c6e52619",
   "metadata": {},
   "outputs": [
    {
     "ename": "AttributeError",
     "evalue": "'str' object has no attribute 'uper'",
     "output_type": "error",
     "traceback": [
      "\u001b[1;31m---------------------------------------------------------------------------\u001b[0m",
      "\u001b[1;31mAttributeError\u001b[0m                            Traceback (most recent call last)",
      "Cell \u001b[1;32mIn[10], line 1\u001b[0m\n\u001b[1;32m----> 1\u001b[0m saludo\u001b[38;5;241m.\u001b[39muper()\n",
      "\u001b[1;31mAttributeError\u001b[0m: 'str' object has no attribute 'uper'"
     ]
    }
   ],
   "source": [
    "saludo.uper()"
   ]
  },
  {
   "cell_type": "code",
   "execution_count": 11,
   "id": "1f443eba",
   "metadata": {},
   "outputs": [
    {
     "data": {
      "text/plain": [
       "'HOLA BUENOS DÍAS'"
      ]
     },
     "execution_count": 11,
     "metadata": {},
     "output_type": "execute_result"
    }
   ],
   "source": [
    "saludo.upper()"
   ]
  },
  {
   "cell_type": "code",
   "execution_count": 12,
   "id": "bfe8d9dc",
   "metadata": {},
   "outputs": [],
   "source": [
    "nombre = \"Cesar\""
   ]
  },
  {
   "cell_type": "code",
   "execution_count": 19,
   "id": "a9af3b6c",
   "metadata": {},
   "outputs": [],
   "source": [
    "nombre = input()"
   ]
  },
  {
   "cell_type": "code",
   "execution_count": 20,
   "id": "bdadc52f",
   "metadata": {},
   "outputs": [
    {
     "name": "stdout",
     "output_type": "stream",
     "text": [
      "Zara\n"
     ]
    }
   ],
   "source": [
    "print(nombre)"
   ]
  },
  {
   "cell_type": "code",
   "execution_count": 21,
   "id": "70d33f14",
   "metadata": {},
   "outputs": [],
   "source": [
    "nombre_2 = \"Zara\""
   ]
  },
  {
   "cell_type": "code",
   "execution_count": 22,
   "id": "4bf0d17b",
   "metadata": {},
   "outputs": [
    {
     "data": {
      "text/plain": [
       "True"
      ]
     },
     "execution_count": 22,
     "metadata": {},
     "output_type": "execute_result"
    }
   ],
   "source": [
    "nombre == nombre_2"
   ]
  },
  {
   "cell_type": "code",
   "execution_count": 23,
   "id": "0632eb9b",
   "metadata": {},
   "outputs": [
    {
     "name": "stdout",
     "output_type": "stream",
     "text": [
      "Zara\n"
     ]
    }
   ],
   "source": [
    "print(nombre)"
   ]
  },
  {
   "cell_type": "code",
   "execution_count": 31,
   "id": "d0109c6e",
   "metadata": {},
   "outputs": [
    {
     "name": "stdout",
     "output_type": "stream",
     "text": [
      "7\n"
     ]
    }
   ],
   "source": [
    "numero = input()\n",
    "\n",
    "print(numero)"
   ]
  },
  {
   "cell_type": "code",
   "execution_count": 32,
   "id": "8b66962c",
   "metadata": {},
   "outputs": [
    {
     "name": "stdout",
     "output_type": "stream",
     "text": [
      "<class 'str'>\n"
     ]
    }
   ],
   "source": [
    "print(type(numero))"
   ]
  },
  {
   "cell_type": "code",
   "execution_count": 33,
   "id": "a5f1b1d7",
   "metadata": {},
   "outputs": [
    {
     "data": {
      "text/plain": [
       "True"
      ]
     },
     "execution_count": 33,
     "metadata": {},
     "output_type": "execute_result"
    }
   ],
   "source": [
    "7 == int(numero)"
   ]
  },
  {
   "cell_type": "code",
   "execution_count": 34,
   "id": "2fec5117",
   "metadata": {},
   "outputs": [
    {
     "data": {
      "text/plain": [
       "True"
      ]
     },
     "execution_count": 34,
     "metadata": {},
     "output_type": "execute_result"
    }
   ],
   "source": [
    "7 == int(\"7\")"
   ]
  },
  {
   "cell_type": "code",
   "execution_count": 35,
   "id": "13e6340d",
   "metadata": {},
   "outputs": [
    {
     "name": "stdout",
     "output_type": "stream",
     "text": [
      "<class 'str'>\n"
     ]
    }
   ],
   "source": [
    "print(type(numero))"
   ]
  },
  {
   "cell_type": "code",
   "execution_count": 37,
   "id": "bcb04b4b",
   "metadata": {},
   "outputs": [],
   "source": [
    "numero = int(numero)"
   ]
  },
  {
   "cell_type": "code",
   "execution_count": 38,
   "id": "787bd1fd",
   "metadata": {},
   "outputs": [
    {
     "name": "stdout",
     "output_type": "stream",
     "text": [
      "<class 'int'>\n"
     ]
    }
   ],
   "source": [
    "print(type(numero))"
   ]
  },
  {
   "cell_type": "code",
   "execution_count": 39,
   "id": "03d4f01f",
   "metadata": {},
   "outputs": [
    {
     "ename": "SyntaxError",
     "evalue": "cannot assign to literal here. Maybe you meant '==' instead of '='? (1642536485.py, line 1)",
     "output_type": "error",
     "traceback": [
      "\u001b[1;36m  Cell \u001b[1;32mIn[39], line 1\u001b[1;36m\u001b[0m\n\u001b[1;33m    7 = 120\u001b[0m\n\u001b[1;37m    ^\u001b[0m\n\u001b[1;31mSyntaxError\u001b[0m\u001b[1;31m:\u001b[0m cannot assign to literal here. Maybe you meant '==' instead of '='?\n"
     ]
    }
   ],
   "source": [
    "7 = 120"
   ]
  },
  {
   "cell_type": "code",
   "execution_count": 41,
   "id": "a10ac092",
   "metadata": {},
   "outputs": [
    {
     "ename": "ValueError",
     "evalue": "invalid literal for int() with base 10: 'hola'",
     "output_type": "error",
     "traceback": [
      "\u001b[1;31m---------------------------------------------------------------------------\u001b[0m",
      "\u001b[1;31mValueError\u001b[0m                                Traceback (most recent call last)",
      "Cell \u001b[1;32mIn[41], line 1\u001b[0m\n\u001b[1;32m----> 1\u001b[0m \u001b[38;5;28mint\u001b[39m(\u001b[38;5;124m\"\u001b[39m\u001b[38;5;124mhola\u001b[39m\u001b[38;5;124m\"\u001b[39m)\n",
      "\u001b[1;31mValueError\u001b[0m: invalid literal for int() with base 10: 'hola'"
     ]
    }
   ],
   "source": [
    "int(\"hola\")"
   ]
  }
 ],
 "metadata": {
  "kernelspec": {
   "display_name": "base",
   "language": "python",
   "name": "python3"
  },
  "language_info": {
   "codemirror_mode": {
    "name": "ipython",
    "version": 3
   },
   "file_extension": ".py",
   "mimetype": "text/x-python",
   "name": "python",
   "nbconvert_exporter": "python",
   "pygments_lexer": "ipython3",
   "version": "3.12.7"
  }
 },
 "nbformat": 4,
 "nbformat_minor": 5
}
