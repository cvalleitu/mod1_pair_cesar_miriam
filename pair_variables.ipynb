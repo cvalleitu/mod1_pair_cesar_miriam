{
 "cells": [
  {
   "cell_type": "code",
   "execution_count": 1,
   "id": "2cd99c46",
   "metadata": {},
   "outputs": [],
   "source": [
    "# ej 1: crea una variable con tu nombre\n",
    "\n",
    "\n",
    "nombre = \"Cesar\""
   ]
  },
  {
   "cell_type": "code",
   "execution_count": null,
   "id": "0408ed2d",
   "metadata": {},
   "outputs": [],
   "source": [
    "otra = \"hola\""
   ]
  },
  {
   "cell_type": "code",
   "execution_count": 3,
   "id": "ac16ca3c",
   "metadata": {},
   "outputs": [],
   "source": [
    "lista_nums = [1,2,3,4]"
   ]
  },
  {
   "cell_type": "code",
   "execution_count": 4,
   "metadata": {},
   "outputs": [],
   "source": [
    "edad = 45"
   ]
  },
  {
   "cell_type": "code",
   "execution_count": 5,
   "id": "5032a257",
   "metadata": {},
   "outputs": [
    {
     "ename": "AttributeError",
     "evalue": "'int' object has no attribute 'lower'",
     "output_type": "error",
     "traceback": [
      "\u001b[1;31m---------------------------------------------------------------------------\u001b[0m",
      "\u001b[1;31mAttributeError\u001b[0m                            Traceback (most recent call last)",
      "Cell \u001b[1;32mIn[5], line 1\u001b[0m\n\u001b[1;32m----> 1\u001b[0m edad\u001b[38;5;241m.\u001b[39mlower()\n",
      "\u001b[1;31mAttributeError\u001b[0m: 'int' object has no attribute 'lower'"
     ]
    }
   ],
   "source": [
    "edad.lower()"
   ]
  },
  {
   "cell_type": "code",
   "execution_count": null,
   "id": "08f51c48",
   "metadata": {},
   "outputs": [],
   "source": []
  }
 ],
 "metadata": {
  "kernelspec": {
   "display_name": "base",
   "language": "python",
   "name": "python3"
  },
  "language_info": {
   "codemirror_mode": {
    "name": "ipython",
    "version": 3
   },
   "file_extension": ".py",
   "mimetype": "text/x-python",
   "name": "python",
   "nbconvert_exporter": "python",
   "pygments_lexer": "ipython3",
   "version": "3.12.7"
  }
 },
 "nbformat": 4,
 "nbformat_minor": 5
}
